{
 "cells": [
  {
   "cell_type": "code",
   "execution_count": 21,
   "id": "6da5812d",
   "metadata": {},
   "outputs": [],
   "source": [
    "def twoSum(inputList1, tar):\n",
    "    lenlist1 = len(inputList1)\n",
    "    if (lenlist1 >= 2 and lenlist1 <= (10 ** 4)) and (tar >= -(10 ** 9) and tar <= (10 ** 9)):\n",
    "        for index in range(len(inputList1)):\n",
    "            if (inputList1[index] >= -(10 ** 9) and inputList1[index] <= (10 ** 9)):\n",
    "                for index1 in range(index + 1, len(inputList1)):\n",
    "                    if inputList1[index] + inputList1[index1] == tar:\n",
    "                        return [index, index1]"
   ]
  },
  {
   "cell_type": "code",
   "execution_count": 22,
   "id": "c20b3eb0",
   "metadata": {},
   "outputs": [
    {
     "data": {
      "text/plain": [
       "[2, 3]"
      ]
     },
     "execution_count": 22,
     "metadata": {},
     "output_type": "execute_result"
    }
   ],
   "source": [
    "twoSum([2,7,11,19], 30)"
   ]
  },
  {
   "cell_type": "code",
   "execution_count": null,
   "id": "58778122",
   "metadata": {},
   "outputs": [],
   "source": []
  }
 ],
 "metadata": {
  "kernelspec": {
   "display_name": "Python (firstProject)",
   "language": "python",
   "name": "firstproject"
  },
  "language_info": {
   "codemirror_mode": {
    "name": "ipython",
    "version": 3
   },
   "file_extension": ".py",
   "mimetype": "text/x-python",
   "name": "python",
   "nbconvert_exporter": "python",
   "pygments_lexer": "ipython3",
   "version": "3.8.11"
  }
 },
 "nbformat": 4,
 "nbformat_minor": 5
}
